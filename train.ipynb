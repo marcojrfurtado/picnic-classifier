{
 "cells": [
  {
   "cell_type": "code",
   "execution_count": null,
   "metadata": {
    "colab": {
     "base_uri": "https://localhost:8080/",
     "height": 34.0
    },
    "colab_type": "code",
    "executionInfo": {
     "elapsed": 3121188.0,
     "status": "ok",
     "timestamp": 1.553384669746E12,
     "user": {
      "displayName": "Antonio Carlos Salzvedel Furtado Junior",
      "photoUrl": "https://lh6.googleusercontent.com/-3b_UC65V5zg/AAAAAAAAAAI/AAAAAAAAADo/yw_fUxxJ2ss/s64/photo.jpg",
      "userId": "09287092986950227459"
     },
     "user_tz": 240.0
    },
    "id": "k-0nVtcu502l",
    "outputId": "cfcc431d-5cc8-41f5-e433-30b988fdb62f"
   },
   "outputs": [],
   "source": [
    "import pandas as pd\n",
    "import os\n",
    "from fastai.vision import *\n",
    "\n",
    "from PIL import ImageFile\n",
    "ImageFile.LOAD_TRUNCATED_IMAGES = True\n",
    "\n",
    "\n",
    "from google.colab import drive\n",
    "mount_directory='/content/gdrive'\n",
    "picnic_data_dir=os.path.join(mount_directory,'My Drive/picnic-classifier/data')\n",
    "\n",
    "# You will be require to enter an authorization code at this point\n",
    "drive.mount(mount_directory)"
   ]
  },
  {
   "cell_type": "code",
   "execution_count": null,
   "metadata": {
    "colab": {},
    "colab_type": "code",
    "id": "SDZm9J6B6UAq"
   },
   "outputs": [],
   "source": [
    "df = pd.read_csv(os.path.join(picnic_data_dir,'train.tsv'), sep='\\t')"
   ]
  },
  {
   "cell_type": "code",
   "execution_count": null,
   "metadata": {
    "colab": {},
    "colab_type": "code",
    "id": "cH4NB0Pp7Nd_"
   },
   "outputs": [],
   "source": [
    "resnet_size=224\n",
    "databunch = ImageDataBunch.from_df(os.path.join(picnic_data_dir,'train'), df, size=resnet_size, ds_tfms=get_transforms(), valid_pct=0.05, num_workers=0)"
   ]
  },
  {
   "cell_type": "code",
   "execution_count": null,
   "metadata": {
    "colab": {
     "base_uri": "https://localhost:8080/",
     "height": 261.0
    },
    "colab_type": "code",
    "executionInfo": {
     "elapsed": 2715547.0,
     "status": "ok",
     "timestamp": 1.553384262027E12,
     "user": {
      "displayName": "Antonio Carlos Salzvedel Furtado Junior",
      "photoUrl": "https://lh6.googleusercontent.com/-3b_UC65V5zg/AAAAAAAAAAI/AAAAAAAAADo/yw_fUxxJ2ss/s64/photo.jpg",
      "userId": "09287092986950227459"
     },
     "user_tz": 240.0
    },
    "id": "6xfW624q8alR",
    "outputId": "ef075e17-c321-4afc-8f55-a49c5d6e40c4"
   },
   "outputs": [],
   "source": [
    "learner = cnn_learner(databunch, models.resnet101, metrics=accuracy)\n",
    "learner.unfreeze()\n",
    "learner.fit_one_cycle(8, slice(1e-5,3e-4))"
   ]
  },
  {
   "cell_type": "code",
   "execution_count": null,
   "metadata": {
    "colab": {},
    "colab_type": "code",
    "id": "eq5ljt6r89ia"
   },
   "outputs": [],
   "source": [
    "learner.save(os.path.join(picnic_data_dir,'picnic_model'))"
   ]
  },
  {
   "cell_type": "code",
   "execution_count": null,
   "metadata": {
    "colab": {},
    "colab_type": "code",
    "id": "wC-S6W4X_jtS"
   },
   "outputs": [],
   "source": [
    "test_df = pd.read_csv(os.path.join(picnic_data_dir,'test.tsv'), sep='\\t')\n",
    "test_df['label'] = ''\n",
    "test_dir = os.path.join(picnic_data_dir,'test')\n",
    "\n",
    "for ix, row in test_df.iterrows():\n",
    "  img_path = os.path.join(test_dir,row['file'])\n",
    "  row['label'] = learner.predict(open_image(img_path))[0]\n",
    "  \n",
    "output_file=os.path.join(picnic_data_dir,'results.tsv')\n",
    "test_df.to_csv(output_file, sep='\\t', index=False)"
   ]
  }
 ],
 "metadata": {
  "accelerator": "GPU",
  "colab": {
   "name": "train.ipynb",
   "provenance": [],
   "version": "0.3.2"
  },
  "kernelspec": {
   "display_name": "Python 3",
   "language": "python",
   "name": "python3"
  },
  "language_info": {
   "codemirror_mode": {
    "name": "ipython",
    "version": 3.0
   },
   "file_extension": ".py",
   "mimetype": "text/x-python",
   "name": "python",
   "nbconvert_exporter": "python",
   "pygments_lexer": "ipython3",
   "version": "3.6.2"
  }
 },
 "nbformat": 4,
 "nbformat_minor": 0
}
